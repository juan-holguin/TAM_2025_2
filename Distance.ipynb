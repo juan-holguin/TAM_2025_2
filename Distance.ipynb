{
 "cells": [
  {
   "cell_type": "code",
   "execution_count": 1,
   "id": "3a73d985",
   "metadata": {},
   "outputs": [
    {
     "name": "stdout",
     "output_type": "stream",
     "text": [
      "Requirement already satisfied: opencv-python-headless in c:\\python313\\lib\\site-packages (4.12.0.88)\n",
      "Requirement already satisfied: numpy<2.3.0,>=2 in c:\\python313\\lib\\site-packages (from opencv-python-headless) (2.2.6)\n"
     ]
    }
   ],
   "source": [
    "!pip install opencv-python-headless\n"
   ]
  },
  {
   "cell_type": "code",
   "execution_count": 3,
   "id": "a507e7ef",
   "metadata": {},
   "outputs": [
    {
     "name": "stdout",
     "output_type": "stream",
     "text": [
      "Distancia 1-2: 12603.891740252295\n",
      "Distancia 1-3: 14341.43531868411\n",
      "Distancia 2-3: 14093.148122403312\n"
     ]
    }
   ],
   "source": [
    "import cv2\n",
    "import numpy as np\n",
    "\n",
    "def cargar_imagen(path, size=(100, 100)):\n",
    "    img = cv2.imread(path, cv2.IMREAD_GRAYSCALE)  # cargar en escala de grises\n",
    "    if img is None:\n",
    "        raise FileNotFoundError(f\"No se pudo cargar la imagen: {path}\")\n",
    "    img = cv2.resize(img, size)  # redimensionar\n",
    "    return img.flatten()\n",
    "\n",
    "# Cargar imágenes (solo el nombre porque están en la misma carpeta que tu .ipynb)\n",
    "img1 = cargar_imagen(\"Persona_1.png\")\n",
    "img2 = cargar_imagen(\"Persona_2.jpg\")\n",
    "img3 = cargar_imagen(\"Persona_3.png\")\n",
    "\n",
    "# Distancia euclídea\n",
    "def distancia(vec1, vec2):\n",
    "    return np.linalg.norm(vec1 - vec2)\n",
    "\n",
    "print(\"Distancia 1-2:\", distancia(img1, img2))\n",
    "print(\"Distancia 1-3:\", distancia(img1, img3))\n",
    "print(\"Distancia 2-3:\", distancia(img2, img3))\n"
   ]
  }
 ],
 "metadata": {
  "kernelspec": {
   "display_name": "Python 3",
   "language": "python",
   "name": "python3"
  },
  "language_info": {
   "codemirror_mode": {
    "name": "ipython",
    "version": 3
   },
   "file_extension": ".py",
   "mimetype": "text/x-python",
   "name": "python",
   "nbconvert_exporter": "python",
   "pygments_lexer": "ipython3",
   "version": "3.13.7"
  }
 },
 "nbformat": 4,
 "nbformat_minor": 5
}
